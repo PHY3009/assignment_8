{
 "cells": [
  {
   "cell_type": "code",
   "execution_count": 159,
   "metadata": {
    "collapsed": false
   },
   "outputs": [],
   "source": [
    "#import regular expressions library, and open the data file\n",
    "import re\n",
    "data = open('merged.dat', 'r').read().split('\\n')"
   ]
  },
  {
   "cell_type": "code",
   "execution_count": 120,
   "metadata": {
    "collapsed": false
   },
   "outputs": [
    {
     "data": {
      "text/plain": [
       "list"
      ]
     },
     "execution_count": 120,
     "metadata": {},
     "output_type": "execute_result"
    }
   ],
   "source": [
    "#check what type of data we have\n",
    "type(data)"
   ]
  },
  {
   "cell_type": "code",
   "execution_count": 114,
   "metadata": {
    "collapsed": false
   },
   "outputs": [
    {
     "data": {
      "text/plain": [
       "['./data/20141118_131037/N2_4DayOld_4psi_CO2_a.00001.dat:15.028 0.00 1 234.9',\n",
       " './data/20141118_131037/N2_4DayOld_4psi_CO2_a.00001.dat:15.069 1.00 1 234.9',\n",
       " './data/20141118_131037/N2_4DayOld_4psi_CO2_a.00001.dat:15.109 2.00 1 234.9',\n",
       " './data/20141118_131037/N2_4DayOld_4psi_CO2_a.00001.dat:15.148 3.00 1 234.9',\n",
       " './data/20141118_131037/N2_4DayOld_4psi_CO2_a.00001.dat:15.186 4.00 1 234.9',\n",
       " './data/20141118_131037/N2_4DayOld_4psi_CO2_a.00001.dat:15.229 5.00 1 234.9',\n",
       " './data/20141118_131037/N2_4DayOld_4psi_CO2_a.00001.dat:15.270 6.00 1 234.9',\n",
       " './data/20141118_131037/N2_4DayOld_4psi_CO2_a.00001.dat:15.310 7.00 1 234.9',\n",
       " './data/20141118_131037/N2_4DayOld_4psi_CO2_a.00001.dat:15.350 8.00 1 234.9',\n",
       " './data/20141118_131037/N2_4DayOld_4psi_CO2_a.00001.dat:15.387 9.00 1 234.9',\n",
       " './data/20141118_133214/tim4182_4DayOld_4psi_CO2_b.00087.dat:249.616 5832.00 87 24.3',\n",
       " './data/20141118_133214/tim4182_4DayOld_4psi_CO2_b.00087.dat:249.656 5833.00 87 24.3',\n",
       " './data/20141118_133214/tim4182_4DayOld_4psi_CO2_b.00087.dat:249.697 5834.00 87 24.3',\n",
       " './data/20141118_133214/tim4182_4DayOld_4psi_CO2_b.00087.dat:249.737 5835.00 87 24.3',\n",
       " './data/20141118_133214/tim4182_4DayOld_4psi_CO2_b.00087.dat:249.776 5836.00 87 24.3',\n",
       " './data/20141118_133214/tim4182_4DayOld_4psi_CO2_b.00087.dat:249.816 5837.00 87 24.3',\n",
       " './data/20141118_133214/tim4182_4DayOld_4psi_CO2_b.00087.dat:249.857 5838.00 87 24.3',\n",
       " './data/20141118_133214/tim4182_4DayOld_4psi_CO2_b.00087.dat:249.897 5839.00 87 24.3',\n",
       " './data/20141118_133214/tim4182_4DayOld_4psi_CO2_b.00087.dat:249.938 5840.00 87 24.3',\n",
       " './data/20141118_133214/tim4182_4DayOld_4psi_CO2_b.00087.dat:249.977 5841.00 87 24.3',\n",
       " '']"
      ]
     },
     "execution_count": 114,
     "metadata": {},
     "output_type": "execute_result"
    }
   ],
   "source": [
    "#create a for loop that will call each ./ in each line. Do this by matching the pattern in each line.\n",
    "\n",
    "for r in data:\n",
    "    re.match('./data', r)\n",
    "data"
   ]
  },
  {
   "cell_type": "code",
   "execution_count": 125,
   "metadata": {
    "collapsed": false
   },
   "outputs": [],
   "source": [
    "#create a new list, so that we have a new file\n",
    "new_merged_list = []\n",
    "lines = open('merged.dat', 'r').read().strip().split('\\n')\n",
    "new_merged_list += lines[:]"
   ]
  },
  {
   "cell_type": "code",
   "execution_count": 134,
   "metadata": {
    "collapsed": false
   },
   "outputs": [
    {
     "name": "stdout",
     "output_type": "stream",
     "text": [
      "./data/20141118_131037/N2_4DayOld_4psi_CO2_a.00001.dat:15.028 0.00 1 234.9\n",
      "./data/20141118_131037/N2_4DayOld_4psi_CO2_a.00001.dat:15.069 1.00 1 234.9\n",
      "./data/20141118_131037/N2_4DayOld_4psi_CO2_a.00001.dat:15.109 2.00 1 234.9\n",
      "./data/20141118_131037/N2_4DayOld_4psi_CO2_a.00001.dat:15.148 3.00 1 234.9\n",
      "./data/20141118_131037/N2_4DayOld_4psi_CO2_a.00001.dat:15.186 4.00 1 234.9\n",
      "./data/20141118_131037/N2_4DayOld_4psi_CO2_a.00001.dat:15.229 5.00 1 234.9\n",
      "./data/20141118_131037/N2_4DayOld_4psi_CO2_a.00001.dat:15.270 6.00 1 234.9\n",
      "./data/20141118_131037/N2_4DayOld_4psi_CO2_a.00001.dat:15.310 7.00 1 234.9\n",
      "./data/20141118_131037/N2_4DayOld_4psi_CO2_a.00001.dat:15.350 8.00 1 234.9\n",
      "./data/20141118_131037/N2_4DayOld_4psi_CO2_a.00001.dat:15.387 9.00 1 234.9\n",
      "./data/20141118_133214/tim4182_4DayOld_4psi_CO2_b.00087.dat:249.616 5832.00 87 24.3\n",
      "./data/20141118_133214/tim4182_4DayOld_4psi_CO2_b.00087.dat:249.656 5833.00 87 24.3\n",
      "./data/20141118_133214/tim4182_4DayOld_4psi_CO2_b.00087.dat:249.697 5834.00 87 24.3\n",
      "./data/20141118_133214/tim4182_4DayOld_4psi_CO2_b.00087.dat:249.737 5835.00 87 24.3\n",
      "./data/20141118_133214/tim4182_4DayOld_4psi_CO2_b.00087.dat:249.776 5836.00 87 24.3\n",
      "./data/20141118_133214/tim4182_4DayOld_4psi_CO2_b.00087.dat:249.816 5837.00 87 24.3\n",
      "./data/20141118_133214/tim4182_4DayOld_4psi_CO2_b.00087.dat:249.857 5838.00 87 24.3\n",
      "./data/20141118_133214/tim4182_4DayOld_4psi_CO2_b.00087.dat:249.897 5839.00 87 24.3\n",
      "./data/20141118_133214/tim4182_4DayOld_4psi_CO2_b.00087.dat:249.938 5840.00 87 24.3\n",
      "./data/20141118_133214/tim4182_4DayOld_4psi_CO2_b.00087.dat:249.977 5841.00 87 24.3\n"
     ]
    }
   ],
   "source": [
    "#take a look into the file for the undesired beginning\n",
    "for r in new_merged_list:\n",
    "    if re.search('\\./data', r):\n",
    "        print(r)"
   ]
  },
  {
   "cell_type": "code",
   "execution_count": 154,
   "metadata": {
    "collapsed": false
   },
   "outputs": [
    {
     "name": "stdout",
     "output_type": "stream",
     "text": [
      "data/20141118_131037/N2_4DayOld_4psi_CO2_a.00001.dat:15.028 0.00 1 234.9\n",
      "data/20141118_131037/N2_4DayOld_4psi_CO2_a.00001.dat:15.069 1.00 1 234.9\n",
      "data/20141118_131037/N2_4DayOld_4psi_CO2_a.00001.dat:15.109 2.00 1 234.9\n",
      "data/20141118_131037/N2_4DayOld_4psi_CO2_a.00001.dat:15.148 3.00 1 234.9\n",
      "data/20141118_131037/N2_4DayOld_4psi_CO2_a.00001.dat:15.186 4.00 1 234.9\n",
      "data/20141118_131037/N2_4DayOld_4psi_CO2_a.00001.dat:15.229 5.00 1 234.9\n",
      "data/20141118_131037/N2_4DayOld_4psi_CO2_a.00001.dat:15.270 6.00 1 234.9\n",
      "data/20141118_131037/N2_4DayOld_4psi_CO2_a.00001.dat:15.310 7.00 1 234.9\n",
      "data/20141118_131037/N2_4DayOld_4psi_CO2_a.00001.dat:15.350 8.00 1 234.9\n",
      "data/20141118_131037/N2_4DayOld_4psi_CO2_a.00001.dat:15.387 9.00 1 234.9\n",
      "data/20141118_133214/tim4182_4DayOld_4psi_CO2_b.00087.dat:249.616 5832.00 87 24.3\n",
      "data/20141118_133214/tim4182_4DayOld_4psi_CO2_b.00087.dat:249.656 5833.00 87 24.3\n",
      "data/20141118_133214/tim4182_4DayOld_4psi_CO2_b.00087.dat:249.697 5834.00 87 24.3\n",
      "data/20141118_133214/tim4182_4DayOld_4psi_CO2_b.00087.dat:249.737 5835.00 87 24.3\n",
      "data/20141118_133214/tim4182_4DayOld_4psi_CO2_b.00087.dat:249.776 5836.00 87 24.3\n",
      "data/20141118_133214/tim4182_4DayOld_4psi_CO2_b.00087.dat:249.816 5837.00 87 24.3\n",
      "data/20141118_133214/tim4182_4DayOld_4psi_CO2_b.00087.dat:249.857 5838.00 87 24.3\n",
      "data/20141118_133214/tim4182_4DayOld_4psi_CO2_b.00087.dat:249.897 5839.00 87 24.3\n",
      "data/20141118_133214/tim4182_4DayOld_4psi_CO2_b.00087.dat:249.938 5840.00 87 24.3\n",
      "data/20141118_133214/tim4182_4DayOld_4psi_CO2_b.00087.dat:249.977 5841.00 87 24.3\n"
     ]
    }
   ],
   "source": [
    "#go through each item in the list, and if it matches the undesired beginning (./), then replace it with data\n",
    "#print the new data into a new file (this may be redundant, but I'm making sure there is a readable file\n",
    "for r in new_merged_list:\n",
    "    if re.search('\\./data', r):\n",
    "        print(re.sub('\\./data', 'data', r))\n"
   ]
  },
  {
   "cell_type": "markdown",
   "metadata": {},
   "source": [
    "The problem with this file was the beginning, pandas wouldn't be able to properly read the ./ prior to data. To solve it, we just needed to delete the ./, or replace it with the correct beginning."
   ]
  },
  {
   "cell_type": "code",
   "execution_count": null,
   "metadata": {
    "collapsed": true
   },
   "outputs": [],
   "source": []
  },
  {
   "cell_type": "code",
   "execution_count": null,
   "metadata": {
    "collapsed": true
   },
   "outputs": [],
   "source": []
  },
  {
   "cell_type": "code",
   "execution_count": null,
   "metadata": {
    "collapsed": true
   },
   "outputs": [],
   "source": []
  },
  {
   "cell_type": "code",
   "execution_count": null,
   "metadata": {
    "collapsed": true
   },
   "outputs": [],
   "source": []
  },
  {
   "cell_type": "code",
   "execution_count": null,
   "metadata": {
    "collapsed": true
   },
   "outputs": [],
   "source": []
  },
  {
   "cell_type": "code",
   "execution_count": null,
   "metadata": {
    "collapsed": true
   },
   "outputs": [],
   "source": []
  },
  {
   "cell_type": "code",
   "execution_count": null,
   "metadata": {
    "collapsed": true
   },
   "outputs": [],
   "source": []
  },
  {
   "cell_type": "code",
   "execution_count": null,
   "metadata": {
    "collapsed": true
   },
   "outputs": [],
   "source": []
  }
 ],
 "metadata": {
  "kernelspec": {
   "display_name": "Python 3",
   "language": "python",
   "name": "python3"
  },
  "language_info": {
   "codemirror_mode": {
    "name": "ipython",
    "version": 3
   },
   "file_extension": ".py",
   "mimetype": "text/x-python",
   "name": "python",
   "nbconvert_exporter": "python",
   "pygments_lexer": "ipython3",
   "version": "3.4.3"
  }
 },
 "nbformat": 4,
 "nbformat_minor": 0
}
