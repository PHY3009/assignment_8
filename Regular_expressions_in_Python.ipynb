{
 "cells": [
  {
   "cell_type": "code",
   "execution_count": 20,
   "metadata": {
    "collapsed": true
   },
   "outputs": [],
   "source": [
    "warms=[]"
   ]
  },
  {
   "cell_type": "code",
   "execution_count": 21,
   "metadata": {
    "collapsed": true
   },
   "outputs": [],
   "source": [
    "import re"
   ]
  },
  {
   "cell_type": "code",
   "execution_count": 22,
   "metadata": {
    "collapsed": true
   },
   "outputs": [],
   "source": [
    "lines = open('merged.dat', 'r').read().strip().split('\\n')\n",
    "warms += lines[:]"
   ]
  },
  {
   "cell_type": "code",
   "execution_count": 23,
   "metadata": {
    "collapsed": false
   },
   "outputs": [
    {
     "data": {
      "text/plain": [
       "20"
      ]
     },
     "execution_count": 23,
     "metadata": {},
     "output_type": "execute_result"
    }
   ],
   "source": [
    "len(warms)"
   ]
  },
  {
   "cell_type": "code",
   "execution_count": 58,
   "metadata": {
    "collapsed": false
   },
   "outputs": [
    {
     "data": {
      "text/plain": [
       "['./data/20141118_131037/N2_4DayOld_4psi_CO2_a.00001.dat:15.028 0.00 1 234.9',\n",
       " './data/20141118_131037/N2_4DayOld_4psi_CO2_a.00001.dat:15.069 1.00 1 234.9',\n",
       " './data/20141118_131037/N2_4DayOld_4psi_CO2_a.00001.dat:15.109 2.00 1 234.9',\n",
       " './data/20141118_131037/N2_4DayOld_4psi_CO2_a.00001.dat:15.148 3.00 1 234.9',\n",
       " './data/20141118_131037/N2_4DayOld_4psi_CO2_a.00001.dat:15.186 4.00 1 234.9',\n",
       " './data/20141118_131037/N2_4DayOld_4psi_CO2_a.00001.dat:15.229 5.00 1 234.9',\n",
       " './data/20141118_131037/N2_4DayOld_4psi_CO2_a.00001.dat:15.270 6.00 1 234.9',\n",
       " './data/20141118_131037/N2_4DayOld_4psi_CO2_a.00001.dat:15.310 7.00 1 234.9',\n",
       " './data/20141118_131037/N2_4DayOld_4psi_CO2_a.00001.dat:15.350 8.00 1 234.9',\n",
       " './data/20141118_131037/N2_4DayOld_4psi_CO2_a.00001.dat:15.387 9.00 1 234.9',\n",
       " './data/20141118_133214/tim4182_4DayOld_4psi_CO2_b.00087.dat:249.616 5832.00 87 24.3',\n",
       " './data/20141118_133214/tim4182_4DayOld_4psi_CO2_b.00087.dat:249.656 5833.00 87 24.3',\n",
       " './data/20141118_133214/tim4182_4DayOld_4psi_CO2_b.00087.dat:249.697 5834.00 87 24.3',\n",
       " './data/20141118_133214/tim4182_4DayOld_4psi_CO2_b.00087.dat:249.737 5835.00 87 24.3',\n",
       " './data/20141118_133214/tim4182_4DayOld_4psi_CO2_b.00087.dat:249.776 5836.00 87 24.3',\n",
       " './data/20141118_133214/tim4182_4DayOld_4psi_CO2_b.00087.dat:249.816 5837.00 87 24.3',\n",
       " './data/20141118_133214/tim4182_4DayOld_4psi_CO2_b.00087.dat:249.857 5838.00 87 24.3',\n",
       " './data/20141118_133214/tim4182_4DayOld_4psi_CO2_b.00087.dat:249.897 5839.00 87 24.3',\n",
       " './data/20141118_133214/tim4182_4DayOld_4psi_CO2_b.00087.dat:249.938 5840.00 87 24.3',\n",
       " './data/20141118_133214/tim4182_4DayOld_4psi_CO2_b.00087.dat:249.977 5841.00 87 24.3']"
      ]
     },
     "execution_count": 58,
     "metadata": {},
     "output_type": "execute_result"
    }
   ],
   "source": [
    "warms"
   ]
  },
  {
   "cell_type": "markdown",
   "metadata": {},
   "source": [
    "This data is a compressed list of data in one line that does not us proper delimiters therefor pandas or other libraries can not read this file. For this problem I seek to sperate the data in what i deem as aproprote speration in groups. this groups will represent the breakdowns of colunms that the data will from once sperated properly.  "
   ]
  },
  {
   "cell_type": "code",
   "execution_count": 91,
   "metadata": {
    "collapsed": false
   },
   "outputs": [
    {
     "name": "stdout",
     "output_type": "stream",
     "text": [
      "data 20141118 133214 tim4182_4DayOld_4psi_CO2_b 00087 dat:249.656 5833.00 87 24.3\n"
     ]
    }
   ],
   "source": [
    "match = re.search('..([a-z]{4}).([0-9]{8}).([0-9]{6}).([A-Za-z0-9]{2,7}_4DayOld_4psi_CO2_[a-b]).([0-9]{5}).(dat:[0-9]{2,3}.[0-9]{3}) ([0-9]{1,4}.00) ([0-9]{1,2}\\s[0-9]{2,3}.[0-9])', './data/20141118_133214/tim4182_4DayOld_4psi_CO2_b.00087.dat:249.656 5833.00 87 24.3' )\n",
    "\n",
    "print(match.group(1), match.group(2), match.group(3), match.group(4), match.group(5), match.group(6), match.group(7), match.group(8))\n"
   ]
  },
  {
   "cell_type": "code",
   "execution_count": 114,
   "metadata": {
    "collapsed": true
   },
   "outputs": [],
   "source": [
    "def new_data(text):\n",
    "    \n",
    "    for anything in text:\n",
    "    \n",
    "        match = re.search(\"..([a-z]{4}).([0-9]{8}).([0-9]{6}).([A-Za-z0-9]{2,7}_4DayOld_4psi_CO2_[a-b]).([0-9]{5}).(dat:[0-9]{2,3}.[0-9]{3}) ([0-9]{1,4}.00) ([0-9]{1,2}\\s[0-9]{2,3}.[0-9])\", anything)\n",
    "        \n",
    "        print(match.group(1), match.group(2), match.group(3), match.group(4), match.group(5), match.group(6), match.group(7), match.group(8))\n"
   ]
  },
  {
   "cell_type": "code",
   "execution_count": 115,
   "metadata": {
    "collapsed": false
   },
   "outputs": [
    {
     "name": "stdout",
     "output_type": "stream",
     "text": [
      "data 20141118 131037 N2_4DayOld_4psi_CO2_a 00001 dat:15.028 0.00 1 234.9\n",
      "data 20141118 131037 N2_4DayOld_4psi_CO2_a 00001 dat:15.069 1.00 1 234.9\n",
      "data 20141118 131037 N2_4DayOld_4psi_CO2_a 00001 dat:15.109 2.00 1 234.9\n",
      "data 20141118 131037 N2_4DayOld_4psi_CO2_a 00001 dat:15.148 3.00 1 234.9\n",
      "data 20141118 131037 N2_4DayOld_4psi_CO2_a 00001 dat:15.186 4.00 1 234.9\n",
      "data 20141118 131037 N2_4DayOld_4psi_CO2_a 00001 dat:15.229 5.00 1 234.9\n",
      "data 20141118 131037 N2_4DayOld_4psi_CO2_a 00001 dat:15.270 6.00 1 234.9\n",
      "data 20141118 131037 N2_4DayOld_4psi_CO2_a 00001 dat:15.310 7.00 1 234.9\n",
      "data 20141118 131037 N2_4DayOld_4psi_CO2_a 00001 dat:15.350 8.00 1 234.9\n",
      "data 20141118 131037 N2_4DayOld_4psi_CO2_a 00001 dat:15.387 9.00 1 234.9\n",
      "data 20141118 133214 tim4182_4DayOld_4psi_CO2_b 00087 dat:249.616 5832.00 87 24.3\n",
      "data 20141118 133214 tim4182_4DayOld_4psi_CO2_b 00087 dat:249.656 5833.00 87 24.3\n",
      "data 20141118 133214 tim4182_4DayOld_4psi_CO2_b 00087 dat:249.697 5834.00 87 24.3\n",
      "data 20141118 133214 tim4182_4DayOld_4psi_CO2_b 00087 dat:249.737 5835.00 87 24.3\n",
      "data 20141118 133214 tim4182_4DayOld_4psi_CO2_b 00087 dat:249.776 5836.00 87 24.3\n",
      "data 20141118 133214 tim4182_4DayOld_4psi_CO2_b 00087 dat:249.816 5837.00 87 24.3\n",
      "data 20141118 133214 tim4182_4DayOld_4psi_CO2_b 00087 dat:249.857 5838.00 87 24.3\n",
      "data 20141118 133214 tim4182_4DayOld_4psi_CO2_b 00087 dat:249.897 5839.00 87 24.3\n",
      "data 20141118 133214 tim4182_4DayOld_4psi_CO2_b 00087 dat:249.938 5840.00 87 24.3\n",
      "data 20141118 133214 tim4182_4DayOld_4psi_CO2_b 00087 dat:249.977 5841.00 87 24.3\n"
     ]
    }
   ],
   "source": [
    "new_data(warms)"
   ]
  },
  {
   "cell_type": "code",
   "execution_count": null,
   "metadata": {
    "collapsed": true
   },
   "outputs": [],
   "source": []
  }
 ],
 "metadata": {
  "kernelspec": {
   "display_name": "Python 3",
   "language": "python",
   "name": "python3"
  },
  "language_info": {
   "codemirror_mode": {
    "name": "ipython",
    "version": 3
   },
   "file_extension": ".py",
   "mimetype": "text/x-python",
   "name": "python",
   "nbconvert_exporter": "python",
   "pygments_lexer": "ipython3",
   "version": "3.4.3"
  }
 },
 "nbformat": 4,
 "nbformat_minor": 0
}
