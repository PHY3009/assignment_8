{
 "cells": [
  {
   "cell_type": "code",
   "execution_count": 14,
   "metadata": {
    "collapsed": false
   },
   "outputs": [],
   "source": [
    "data = open ('merged.txt','r').read().split('\\n')"
   ]
  },
  {
   "cell_type": "code",
   "execution_count": 34,
   "metadata": {
    "collapsed": false
   },
   "outputs": [],
   "source": [
    "import re"
   ]
  },
  {
   "cell_type": "code",
   "execution_count": 17,
   "metadata": {
    "collapsed": false
   },
   "outputs": [
    {
     "data": {
      "text/plain": [
       "['./data/20141118_131037/N2_4DayOld_4psi_CO2_a.00001.dat:15.028 0.00 1 234.9',\n",
       " './data/20141118_131037/N2_4DayOld_4psi_CO2_a.00001.dat:15.069 1.00 1 234.9',\n",
       " './data/20141118_131037/N2_4DayOld_4psi_CO2_a.00001.dat:15.109 2.00 1 234.9',\n",
       " './data/20141118_131037/N2_4DayOld_4psi_CO2_a.00001.dat:15.148 3.00 1 234.9',\n",
       " './data/20141118_131037/N2_4DayOld_4psi_CO2_a.00001.dat:15.186 4.00 1 234.9',\n",
       " './data/20141118_131037/N2_4DayOld_4psi_CO2_a.00001.dat:15.229 5.00 1 234.9',\n",
       " './data/20141118_131037/N2_4DayOld_4psi_CO2_a.00001.dat:15.270 6.00 1 234.9',\n",
       " './data/20141118_131037/N2_4DayOld_4psi_CO2_a.00001.dat:15.310 7.00 1 234.9',\n",
       " './data/20141118_131037/N2_4DayOld_4psi_CO2_a.00001.dat:15.350 8.00 1 234.9',\n",
       " './data/20141118_131037/N2_4DayOld_4psi_CO2_a.00001.dat:15.387 9.00 1 234.9',\n",
       " './data/20141118_133214/tim4182_4DayOld_4psi_CO2_b.00087.dat:249.616 5832.00 87 24.3',\n",
       " './data/20141118_133214/tim4182_4DayOld_4psi_CO2_b.00087.dat:249.656 5833.00 87 24.3',\n",
       " './data/20141118_133214/tim4182_4DayOld_4psi_CO2_b.00087.dat:249.697 5834.00 87 24.3',\n",
       " './data/20141118_133214/tim4182_4DayOld_4psi_CO2_b.00087.dat:249.737 5835.00 87 24.3',\n",
       " './data/20141118_133214/tim4182_4DayOld_4psi_CO2_b.00087.dat:249.776 5836.00 87 24.3',\n",
       " './data/20141118_133214/tim4182_4DayOld_4psi_CO2_b.00087.dat:249.816 5837.00 87 24.3',\n",
       " './data/20141118_133214/tim4182_4DayOld_4psi_CO2_b.00087.dat:249.857 5838.00 87 24.3',\n",
       " './data/20141118_133214/tim4182_4DayOld_4psi_CO2_b.00087.dat:249.897 5839.00 87 24.3',\n",
       " './data/20141118_133214/tim4182_4DayOld_4psi_CO2_b.00087.dat:249.938 5840.00 87 24.3',\n",
       " './data/20141118_133214/tim4182_4DayOld_4psi_CO2_b.00087.dat:249.977 5841.00 87 24.3',\n",
       " '']"
      ]
     },
     "execution_count": 17,
     "metadata": {},
     "output_type": "execute_result"
    }
   ],
   "source": [
    "data"
   ]
  },
  {
   "cell_type": "code",
   "execution_count": 41,
   "metadata": {
    "collapsed": false
   },
   "outputs": [
    {
     "name": "stdout",
     "output_type": "stream",
     "text": [
      "./data/20141118_133214/tim4182_4DayOld_4psi_CO2_b.00087.dat:249.616 5832.00 87 24.3\n",
      "./data/20141118_133214/tim4182_4DayOld_4psi_CO2_b.00087.dat:249.656 5833.00 87 24.3\n",
      "./data/20141118_133214/tim4182_4DayOld_4psi_CO2_b.00087.dat:249.697 5834.00 87 24.3\n",
      "./data/20141118_133214/tim4182_4DayOld_4psi_CO2_b.00087.dat:249.737 5835.00 87 24.3\n",
      "./data/20141118_133214/tim4182_4DayOld_4psi_CO2_b.00087.dat:249.776 5836.00 87 24.3\n",
      "./data/20141118_133214/tim4182_4DayOld_4psi_CO2_b.00087.dat:249.816 5837.00 87 24.3\n",
      "./data/20141118_133214/tim4182_4DayOld_4psi_CO2_b.00087.dat:249.857 5838.00 87 24.3\n",
      "./data/20141118_133214/tim4182_4DayOld_4psi_CO2_b.00087.dat:249.897 5839.00 87 24.3\n",
      "./data/20141118_133214/tim4182_4DayOld_4psi_CO2_b.00087.dat:249.938 5840.00 87 24.3\n",
      "./data/20141118_133214/tim4182_4DayOld_4psi_CO2_b.00087.dat:249.977 5841.00 87 24.3\n"
     ]
    }
   ],
   "source": [
    "for i in data:\n",
    "    if re.search('tim',i):\n",
    "        print(i)"
   ]
  },
  {
   "cell_type": "code",
   "execution_count": 44,
   "metadata": {
    "collapsed": false
   },
   "outputs": [
    {
     "name": "stdout",
     "output_type": "stream",
     "text": [
      "./data/20141118_131037/N2_4DayOld_4psi_CO2_a.00001.dat:15.028 0.00 1 234.9\n",
      "./data/20141118_131037/N2_4DayOld_4psi_CO2_a.00001.dat:15.069 1.00 1 234.9\n",
      "./data/20141118_131037/N2_4DayOld_4psi_CO2_a.00001.dat:15.109 2.00 1 234.9\n",
      "./data/20141118_131037/N2_4DayOld_4psi_CO2_a.00001.dat:15.148 3.00 1 234.9\n",
      "./data/20141118_131037/N2_4DayOld_4psi_CO2_a.00001.dat:15.186 4.00 1 234.9\n",
      "./data/20141118_131037/N2_4DayOld_4psi_CO2_a.00001.dat:15.229 5.00 1 234.9\n",
      "./data/20141118_131037/N2_4DayOld_4psi_CO2_a.00001.dat:15.270 6.00 1 234.9\n",
      "./data/20141118_131037/N2_4DayOld_4psi_CO2_a.00001.dat:15.310 7.00 1 234.9\n",
      "./data/20141118_131037/N2_4DayOld_4psi_CO2_a.00001.dat:15.350 8.00 1 234.9\n",
      "./data/20141118_131037/N2_4DayOld_4psi_CO2_a.00001.dat:15.387 9.00 1 234.9\n"
     ]
    }
   ],
   "source": [
    "for i in data:\n",
    "    if re.search('N2',i):\n",
    "        print(i)"
   ]
  },
  {
   "cell_type": "code",
   "execution_count": 45,
   "metadata": {
    "collapsed": false
   },
   "outputs": [],
   "source": [
    "def show_matches(pattern, strings):\n",
    "    '''from a pattern and a string print out asterisks besides matches'''\n",
    "    \n",
    "    # loop over strings\n",
    "    for s in strings:\n",
    "        if re.search(pattern, s):\n",
    "            print('***',s)\n",
    "        else:\n",
    "            print('', s)"
   ]
  },
  {
   "cell_type": "code",
   "execution_count": 46,
   "metadata": {
    "collapsed": false
   },
   "outputs": [
    {
     "name": "stdout",
     "output_type": "stream",
     "text": [
      " ./data/20141118_131037/N2_4DayOld_4psi_CO2_a.00001.dat:15.028 0.00 1 234.9\n",
      " ./data/20141118_131037/N2_4DayOld_4psi_CO2_a.00001.dat:15.069 1.00 1 234.9\n",
      " ./data/20141118_131037/N2_4DayOld_4psi_CO2_a.00001.dat:15.109 2.00 1 234.9\n",
      " ./data/20141118_131037/N2_4DayOld_4psi_CO2_a.00001.dat:15.148 3.00 1 234.9\n",
      " ./data/20141118_131037/N2_4DayOld_4psi_CO2_a.00001.dat:15.186 4.00 1 234.9\n",
      " ./data/20141118_131037/N2_4DayOld_4psi_CO2_a.00001.dat:15.229 5.00 1 234.9\n",
      " ./data/20141118_131037/N2_4DayOld_4psi_CO2_a.00001.dat:15.270 6.00 1 234.9\n",
      " ./data/20141118_131037/N2_4DayOld_4psi_CO2_a.00001.dat:15.310 7.00 1 234.9\n",
      " ./data/20141118_131037/N2_4DayOld_4psi_CO2_a.00001.dat:15.350 8.00 1 234.9\n",
      " ./data/20141118_131037/N2_4DayOld_4psi_CO2_a.00001.dat:15.387 9.00 1 234.9\n",
      "*** ./data/20141118_133214/tim4182_4DayOld_4psi_CO2_b.00087.dat:249.616 5832.00 87 24.3\n",
      "*** ./data/20141118_133214/tim4182_4DayOld_4psi_CO2_b.00087.dat:249.656 5833.00 87 24.3\n",
      "*** ./data/20141118_133214/tim4182_4DayOld_4psi_CO2_b.00087.dat:249.697 5834.00 87 24.3\n",
      "*** ./data/20141118_133214/tim4182_4DayOld_4psi_CO2_b.00087.dat:249.737 5835.00 87 24.3\n",
      "*** ./data/20141118_133214/tim4182_4DayOld_4psi_CO2_b.00087.dat:249.776 5836.00 87 24.3\n",
      "*** ./data/20141118_133214/tim4182_4DayOld_4psi_CO2_b.00087.dat:249.816 5837.00 87 24.3\n",
      "*** ./data/20141118_133214/tim4182_4DayOld_4psi_CO2_b.00087.dat:249.857 5838.00 87 24.3\n",
      "*** ./data/20141118_133214/tim4182_4DayOld_4psi_CO2_b.00087.dat:249.897 5839.00 87 24.3\n",
      "*** ./data/20141118_133214/tim4182_4DayOld_4psi_CO2_b.00087.dat:249.938 5840.00 87 24.3\n",
      "*** ./data/20141118_133214/tim4182_4DayOld_4psi_CO2_b.00087.dat:249.977 5841.00 87 24.3\n",
      " \n"
     ]
    }
   ],
   "source": [
    "show_matches('tim', data)"
   ]
  },
  {
   "cell_type": "code",
   "execution_count": 210,
   "metadata": {
    "collapsed": true
   },
   "outputs": [],
   "source": [
    "match = re.search('/(....)/','./data/20141118_131037/N2_4DayOld_4psi_CO2_a.00001.dat:15.028 0.00 1 234.9')"
   ]
  },
  {
   "cell_type": "code",
   "execution_count": 211,
   "metadata": {
    "collapsed": false
   },
   "outputs": [
    {
     "name": "stdout",
     "output_type": "stream",
     "text": [
      "data\n"
     ]
    }
   ],
   "source": [
    "print(match.group(1))"
   ]
  },
  {
   "cell_type": "code",
   "execution_count": 387,
   "metadata": {
    "collapsed": true
   },
   "outputs": [],
   "source": [
    "def show_groups(pattern,txt):\n",
    "    m = re.search(pattern,txt)\n",
    "    \n",
    "    if m is None:\n",
    "        print(\"NOOOOOOOOOOOOOO\")\n",
    "        return\n",
    "    \n",
    "    for i in range(1,1 + len(m.groups())):\n",
    "        print(m.group(i))"
   ]
  },
  {
   "cell_type": "code",
   "execution_count": 388,
   "metadata": {
    "collapsed": false
   },
   "outputs": [
    {
     "name": "stdout",
     "output_type": "stream",
     "text": [
      "data\n"
     ]
    }
   ],
   "source": [
    "show_groups('/(....)/','./data/20141118_131037/N2_4DayOld_4psi_CO2_a.00001.dat:15.028 0.00 1 234.9')"
   ]
  },
  {
   "cell_type": "markdown",
   "metadata": {},
   "source": [
    "I notice the dataset doesn't have a good consistent separator, sometime it separate each column by space, sometimes by :, sometimes by ., and sometimes by /. This becomes an issue when we are tring to load the data into pandas because it would read the entire dataset as one column, which makes it extremely difficult to perform any analysis. Therefore, we are trying to use space as a separator so the pandas would read it into different column that helps us to perfrom analysis. \n",
    "I would use regular expression to replace the :/. with space"
   ]
  },
  {
   "cell_type": "code",
   "execution_count": 389,
   "metadata": {
    "collapsed": true
   },
   "outputs": [],
   "source": [
    "def show_space(record):\n",
    "    '''Return (Y,M,D) as strings or None'''\n",
    "    \n",
    "    # this will works for data that looks like N2_4DayOld_4psi_CO2_a\n",
    "    m = re.search('([a-z]{4})/([0-9_]{15})/([A-Za-z0-9_]{21}).([0-9]{5}).([a-z]{3}):([0-9.]{6}) ([0-9.]{4}) ([0-9]{1}) ([0-9.]{5})', record)\n",
    "    \n",
    "    # did re.search find a useful data and get rid of the : / ,\n",
    "    if m:\n",
    "        return m.group(1), m.group(2), m.group(3), m.group(4), m.group(5), m.group(6), m.group(7), m.group(8), m.group(9)\n",
    "        # if re.search return none from above, lets try other pattern for data that looks like tim4182_4DayOld_4psi_CO2_b\n",
    "    m = re.search('([a-z]{4})/([0-9_]{15})/([A-Za-z0-9_]{26}).([0-9]{5}).([a-z]{3}):([0-9.]{7}) ([0-9.]{7}) ([0-9]{2}) ([0-9.]{4})', record)\n",
    "    \n",
    "    # if re.search find a useful data and get rid of the : / , \n",
    "    if m:\n",
    "        return m.group(1), m.group(2), m.group(3), m.group(4), m.group(5), m.group(6), m.group(7), m.group(8), m.group(9)\n",
    "    \n",
    "    return None"
   ]
  },
  {
   "cell_type": "code",
   "execution_count": 390,
   "metadata": {
    "collapsed": false
   },
   "outputs": [
    {
     "name": "stdout",
     "output_type": "stream",
     "text": [
      "data 20141118_131037 N2_4DayOld_4psi_CO2_a 00001 dat 15.028 0.00 1 234.9\n",
      "data 20141118_131037 N2_4DayOld_4psi_CO2_a 00001 dat 15.069 1.00 1 234.9\n",
      "data 20141118_131037 N2_4DayOld_4psi_CO2_a 00001 dat 15.109 2.00 1 234.9\n",
      "data 20141118_131037 N2_4DayOld_4psi_CO2_a 00001 dat 15.148 3.00 1 234.9\n",
      "data 20141118_131037 N2_4DayOld_4psi_CO2_a 00001 dat 15.186 4.00 1 234.9\n",
      "data 20141118_131037 N2_4DayOld_4psi_CO2_a 00001 dat 15.229 5.00 1 234.9\n",
      "data 20141118_131037 N2_4DayOld_4psi_CO2_a 00001 dat 15.270 6.00 1 234.9\n",
      "data 20141118_131037 N2_4DayOld_4psi_CO2_a 00001 dat 15.310 7.00 1 234.9\n",
      "data 20141118_131037 N2_4DayOld_4psi_CO2_a 00001 dat 15.350 8.00 1 234.9\n",
      "data 20141118_131037 N2_4DayOld_4psi_CO2_a 00001 dat 15.387 9.00 1 234.9\n",
      "data 20141118_133214 tim4182_4DayOld_4psi_CO2_b 00087 dat 249.616 5832.00 87 24.3\n",
      "data 20141118_133214 tim4182_4DayOld_4psi_CO2_b 00087 dat 249.656 5833.00 87 24.3\n",
      "data 20141118_133214 tim4182_4DayOld_4psi_CO2_b 00087 dat 249.697 5834.00 87 24.3\n",
      "data 20141118_133214 tim4182_4DayOld_4psi_CO2_b 00087 dat 249.737 5835.00 87 24.3\n",
      "data 20141118_133214 tim4182_4DayOld_4psi_CO2_b 00087 dat 249.776 5836.00 87 24.3\n",
      "data 20141118_133214 tim4182_4DayOld_4psi_CO2_b 00087 dat 249.816 5837.00 87 24.3\n",
      "data 20141118_133214 tim4182_4DayOld_4psi_CO2_b 00087 dat 249.857 5838.00 87 24.3\n",
      "data 20141118_133214 tim4182_4DayOld_4psi_CO2_b 00087 dat 249.897 5839.00 87 24.3\n",
      "data 20141118_133214 tim4182_4DayOld_4psi_CO2_b 00087 dat 249.938 5840.00 87 24.3\n",
      "data 20141118_133214 tim4182_4DayOld_4psi_CO2_b 00087 dat 249.977 5841.00 87 24.3\n"
     ]
    },
    {
     "ename": "TypeError",
     "evalue": "'NoneType' object is not subscriptable",
     "output_type": "error",
     "traceback": [
      "\u001b[0;31m---------------------------------------------------------------------------\u001b[0m",
      "\u001b[0;31mTypeError\u001b[0m                                 Traceback (most recent call last)",
      "\u001b[0;32m<ipython-input-390-c0d9ed9c0768>\u001b[0m in \u001b[0;36m<module>\u001b[0;34m()\u001b[0m\n\u001b[1;32m      1\u001b[0m \u001b[0;32mfor\u001b[0m \u001b[0mr\u001b[0m \u001b[0;32min\u001b[0m \u001b[0mdata\u001b[0m\u001b[0;34m:\u001b[0m\u001b[0;34m\u001b[0m\u001b[0m\n\u001b[0;32m----> 2\u001b[0;31m     \u001b[0mprint\u001b[0m\u001b[0;34m(\u001b[0m\u001b[0mshow_space\u001b[0m\u001b[0;34m(\u001b[0m\u001b[0mr\u001b[0m\u001b[0;34m)\u001b[0m\u001b[0;34m[\u001b[0m\u001b[0;36m0\u001b[0m\u001b[0;34m]\u001b[0m\u001b[0;34m,\u001b[0m \u001b[0mshow_space\u001b[0m\u001b[0;34m(\u001b[0m\u001b[0mr\u001b[0m\u001b[0;34m)\u001b[0m\u001b[0;34m[\u001b[0m\u001b[0;36m1\u001b[0m\u001b[0;34m]\u001b[0m\u001b[0;34m,\u001b[0m \u001b[0mshow_space\u001b[0m\u001b[0;34m(\u001b[0m\u001b[0mr\u001b[0m\u001b[0;34m)\u001b[0m\u001b[0;34m[\u001b[0m\u001b[0;36m2\u001b[0m\u001b[0;34m]\u001b[0m\u001b[0;34m,\u001b[0m \u001b[0mshow_space\u001b[0m\u001b[0;34m(\u001b[0m\u001b[0mr\u001b[0m\u001b[0;34m)\u001b[0m\u001b[0;34m[\u001b[0m\u001b[0;36m3\u001b[0m\u001b[0;34m]\u001b[0m\u001b[0;34m,\u001b[0m \u001b[0mshow_space\u001b[0m\u001b[0;34m(\u001b[0m\u001b[0mr\u001b[0m\u001b[0;34m)\u001b[0m\u001b[0;34m[\u001b[0m\u001b[0;36m4\u001b[0m\u001b[0;34m]\u001b[0m\u001b[0;34m,\u001b[0m \u001b[0mshow_space\u001b[0m\u001b[0;34m(\u001b[0m\u001b[0mr\u001b[0m\u001b[0;34m)\u001b[0m\u001b[0;34m[\u001b[0m\u001b[0;36m5\u001b[0m\u001b[0;34m]\u001b[0m\u001b[0;34m,\u001b[0m \u001b[0mshow_space\u001b[0m\u001b[0;34m(\u001b[0m\u001b[0mr\u001b[0m\u001b[0;34m)\u001b[0m\u001b[0;34m[\u001b[0m\u001b[0;36m6\u001b[0m\u001b[0;34m]\u001b[0m\u001b[0;34m,\u001b[0m \u001b[0mshow_space\u001b[0m\u001b[0;34m(\u001b[0m\u001b[0mr\u001b[0m\u001b[0;34m)\u001b[0m\u001b[0;34m[\u001b[0m\u001b[0;36m7\u001b[0m\u001b[0;34m]\u001b[0m\u001b[0;34m,\u001b[0m \u001b[0mshow_space\u001b[0m\u001b[0;34m(\u001b[0m\u001b[0mr\u001b[0m\u001b[0;34m)\u001b[0m\u001b[0;34m[\u001b[0m\u001b[0;36m8\u001b[0m\u001b[0;34m]\u001b[0m\u001b[0;34m)\u001b[0m\u001b[0;34m\u001b[0m\u001b[0m\n\u001b[0m",
      "\u001b[0;31mTypeError\u001b[0m: 'NoneType' object is not subscriptable"
     ]
    }
   ],
   "source": [
    "for r in data:\n",
    "    print(show_space(r)[0], show_space(r)[1], show_space(r)[2], show_space(r)[3], show_space(r)[4], show_space(r)[5], show_space(r)[6], show_space(r)[7], show_space(r)[8])"
   ]
  },
  {
   "cell_type": "code",
   "execution_count": null,
   "metadata": {
    "collapsed": false
   },
   "outputs": [],
   "source": []
  },
  {
   "cell_type": "code",
   "execution_count": null,
   "metadata": {
    "collapsed": true
   },
   "outputs": [],
   "source": []
  }
 ],
 "metadata": {
  "kernelspec": {
   "display_name": "Python 3",
   "language": "python",
   "name": "python3"
  },
  "language_info": {
   "codemirror_mode": {
    "name": "ipython",
    "version": 3
   },
   "file_extension": ".py",
   "mimetype": "text/x-python",
   "name": "python",
   "nbconvert_exporter": "python",
   "pygments_lexer": "ipython3",
   "version": "3.4.3"
  }
 },
 "nbformat": 4,
 "nbformat_minor": 0
}
