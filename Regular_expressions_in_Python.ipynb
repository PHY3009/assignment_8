{
 "cells": [
  {
   "cell_type": "code",
   "execution_count": 422,
   "metadata": {
    "collapsed": true
   },
   "outputs": [],
   "source": [
    "# importing regular expressions and numpy\n",
    "import re\n",
    "import numpy as np\n",
    "import pandas as pd"
   ]
  },
  {
   "cell_type": "code",
   "execution_count": 305,
   "metadata": {
    "collapsed": false,
    "scrolled": true
   },
   "outputs": [
    {
     "name": "stdout",
     "output_type": "stream",
     "text": [
      "./data/20141118_131037/N2_4DayOld_4psi_CO2_a.00001.dat:15.028 0.00 1 234.9\n",
      "./data/20141118_131037/N2_4DayOld_4psi_CO2_a.00001.dat:15.069 1.00 1 234.9\n",
      "./data/20141118_131037/N2_4DayOld_4psi_CO2_a.00001.dat:15.109 2.00 1 234.9\n",
      "./data/20141118_131037/N2_4DayOld_4psi_CO2_a.00001.dat:15.148 3.00 1 234.9\n",
      "./data/20141118_131037/N2_4DayOld_4psi_CO2_a.00001.dat:15.186 4.00 1 234.9\n",
      "./data/20141118_131037/N2_4DayOld_4psi_CO2_a.00001.dat:15.229 5.00 1 234.9\n",
      "./data/20141118_131037/N2_4DayOld_4psi_CO2_a.00001.dat:15.270 6.00 1 234.9\n",
      "./data/20141118_131037/N2_4DayOld_4psi_CO2_a.00001.dat:15.310 7.00 1 234.9\n",
      "./data/20141118_131037/N2_4DayOld_4psi_CO2_a.00001.dat:15.350 8.00 1 234.9\n",
      "./data/20141118_131037/N2_4DayOld_4psi_CO2_a.00001.dat:15.387 9.00 1 234.9\n",
      "./data/20141118_133214/tim4182_4DayOld_4psi_CO2_b.00087.dat:249.616 5832.00 87 24.3\n",
      "./data/20141118_133214/tim4182_4DayOld_4psi_CO2_b.00087.dat:249.656 5833.00 87 24.3\n",
      "./data/20141118_133214/tim4182_4DayOld_4psi_CO2_b.00087.dat:249.697 5834.00 87 24.3\n",
      "./data/20141118_133214/tim4182_4DayOld_4psi_CO2_b.00087.dat:249.737 5835.00 87 24.3\n",
      "./data/20141118_133214/tim4182_4DayOld_4psi_CO2_b.00087.dat:249.776 5836.00 87 24.3\n",
      "./data/20141118_133214/tim4182_4DayOld_4psi_CO2_b.00087.dat:249.816 5837.00 87 24.3\n",
      "./data/20141118_133214/tim4182_4DayOld_4psi_CO2_b.00087.dat:249.857 5838.00 87 24.3\n",
      "./data/20141118_133214/tim4182_4DayOld_4psi_CO2_b.00087.dat:249.897 5839.00 87 24.3\n",
      "./data/20141118_133214/tim4182_4DayOld_4psi_CO2_b.00087.dat:249.938 5840.00 87 24.3\n",
      "./data/20141118_133214/tim4182_4DayOld_4psi_CO2_b.00087.dat:249.977 5841.00 87 24.3\n",
      "\n"
     ]
    }
   ],
   "source": [
    "# importing merged data and naming it content\n",
    "content=open('merged.dat', 'r').read().split('\\n')\n",
    "# printing the lines in content\n",
    "for lines in content:\n",
    "    print(lines)\n",
    "\n"
   ]
  },
  {
   "cell_type": "markdown",
   "metadata": {},
   "source": [
    "At first I thought that the problem with this data set was that it was two merged data sets that should have been separated based on their data type. I proceeded to solve this problem and put the two types of data into different data arrays. However, after conversing with Billy I knew that the goal of the assignment was to seperate the data pieces in each row into seperate columns. But I worked extremely hard to seperate the data into different arrays (my first thought), so I included the code in the assignment. "
   ]
  },
  {
   "cell_type": "code",
   "execution_count": 408,
   "metadata": {
    "collapsed": false
   },
   "outputs": [],
   "source": [
    "# getting ready to seperate the data based on similarity\n",
    "# Creating a new array's to put N2 and tim into after separation (different types of data into each)\n",
    "sifted_content_1 = []\n",
    "sifted_content_2 = []"
   ]
  },
  {
   "cell_type": "code",
   "execution_count": 409,
   "metadata": {
    "collapsed": false
   },
   "outputs": [],
   "source": [
    "# Creating a function that will separate data based on a pattern and put into desired array\n",
    "def sifted(pattern, strings, new_array_name):\n",
    "    '''from a pattern and a string, print out \n",
    "    asterisks besides matches'''\n",
    "    \n",
    "    # loop over strings\n",
    "    for s in strings:\n",
    "        if re.search(pattern, s):\n",
    "            new_array_name.append(s)\n",
    "        else:\n",
    "            pass\n",
    "    "
   ]
  },
  {
   "cell_type": "code",
   "execution_count": 410,
   "metadata": {
    "collapsed": false
   },
   "outputs": [],
   "source": [
    "# Running the function for both types of data in content and putting each in its own array\n",
    "sifted('_a.', content, sifted_content_1)\n",
    "sifted ('_b.', content, sifted_content_2)"
   ]
  },
  {
   "cell_type": "code",
   "execution_count": 411,
   "metadata": {
    "collapsed": false
   },
   "outputs": [
    {
     "data": {
      "text/plain": [
       "['./data/20141118_131037/N2_4DayOld_4psi_CO2_a.00001.dat:15.028 0.00 1 234.9',\n",
       " './data/20141118_131037/N2_4DayOld_4psi_CO2_a.00001.dat:15.069 1.00 1 234.9',\n",
       " './data/20141118_131037/N2_4DayOld_4psi_CO2_a.00001.dat:15.109 2.00 1 234.9',\n",
       " './data/20141118_131037/N2_4DayOld_4psi_CO2_a.00001.dat:15.148 3.00 1 234.9',\n",
       " './data/20141118_131037/N2_4DayOld_4psi_CO2_a.00001.dat:15.186 4.00 1 234.9',\n",
       " './data/20141118_131037/N2_4DayOld_4psi_CO2_a.00001.dat:15.229 5.00 1 234.9',\n",
       " './data/20141118_131037/N2_4DayOld_4psi_CO2_a.00001.dat:15.270 6.00 1 234.9',\n",
       " './data/20141118_131037/N2_4DayOld_4psi_CO2_a.00001.dat:15.310 7.00 1 234.9',\n",
       " './data/20141118_131037/N2_4DayOld_4psi_CO2_a.00001.dat:15.350 8.00 1 234.9',\n",
       " './data/20141118_131037/N2_4DayOld_4psi_CO2_a.00001.dat:15.387 9.00 1 234.9']"
      ]
     },
     "execution_count": 411,
     "metadata": {},
     "output_type": "execute_result"
    }
   ],
   "source": [
    "# Proving separation by showing lines (composed of N2) of the array sifted_content_1\n",
    "sifted_content_1"
   ]
  },
  {
   "cell_type": "code",
   "execution_count": 407,
   "metadata": {
    "collapsed": false
   },
   "outputs": [
    {
     "data": {
      "text/plain": [
       "['./data/20141118_133214/tim4182_4DayOld_4psi_CO2_b.00087.dat:249.616 5832.00 87 24.3',\n",
       " './data/20141118_133214/tim4182_4DayOld_4psi_CO2_b.00087.dat:249.656 5833.00 87 24.3',\n",
       " './data/20141118_133214/tim4182_4DayOld_4psi_CO2_b.00087.dat:249.697 5834.00 87 24.3',\n",
       " './data/20141118_133214/tim4182_4DayOld_4psi_CO2_b.00087.dat:249.737 5835.00 87 24.3',\n",
       " './data/20141118_133214/tim4182_4DayOld_4psi_CO2_b.00087.dat:249.776 5836.00 87 24.3',\n",
       " './data/20141118_133214/tim4182_4DayOld_4psi_CO2_b.00087.dat:249.816 5837.00 87 24.3',\n",
       " './data/20141118_133214/tim4182_4DayOld_4psi_CO2_b.00087.dat:249.857 5838.00 87 24.3',\n",
       " './data/20141118_133214/tim4182_4DayOld_4psi_CO2_b.00087.dat:249.897 5839.00 87 24.3',\n",
       " './data/20141118_133214/tim4182_4DayOld_4psi_CO2_b.00087.dat:249.938 5840.00 87 24.3',\n",
       " './data/20141118_133214/tim4182_4DayOld_4psi_CO2_b.00087.dat:249.977 5841.00 87 24.3']"
      ]
     },
     "execution_count": 407,
     "metadata": {},
     "output_type": "execute_result"
    }
   ],
   "source": [
    "# Proving separation by showing lines (composed of tim) of the array sifted_content_2\n",
    "sifted_content_2"
   ]
  },
  {
   "cell_type": "markdown",
   "metadata": {},
   "source": [
    "After talking with Billy I realized that my method of solving the problem did not actually apply the regular expression skills we learned in class. I also realized that the lines of data in content were just long conglomerations of data that were supposed to be separated into individual columns. Therefore if content is put into a data frame (like the cell below) all of the data in each line would be put into one column. Thus we need to use regular expressions to separate the data into columns. Using gernal forms of regulaar expressions, we can create a code to call both of the data types in content and seperate them with space to make columns for the data. I realize that the seperation of this data is somewhat arbitray and subjective, so I did my best to estimate what I thought should be in different columns.  "
   ]
  },
  {
   "cell_type": "code",
   "execution_count": 477,
   "metadata": {
    "collapsed": false
   },
   "outputs": [
    {
     "data": {
      "text/html": [
       "<div>\n",
       "<table border=\"1\" class=\"dataframe\">\n",
       "  <thead>\n",
       "    <tr style=\"text-align: right;\">\n",
       "      <th></th>\n",
       "      <th>0</th>\n",
       "    </tr>\n",
       "  </thead>\n",
       "  <tbody>\n",
       "    <tr>\n",
       "      <th>0</th>\n",
       "      <td>./data/20141118_131037/N2_4DayOld_4psi_CO2_a.0...</td>\n",
       "    </tr>\n",
       "    <tr>\n",
       "      <th>1</th>\n",
       "      <td>./data/20141118_131037/N2_4DayOld_4psi_CO2_a.0...</td>\n",
       "    </tr>\n",
       "    <tr>\n",
       "      <th>2</th>\n",
       "      <td>./data/20141118_131037/N2_4DayOld_4psi_CO2_a.0...</td>\n",
       "    </tr>\n",
       "    <tr>\n",
       "      <th>3</th>\n",
       "      <td>./data/20141118_131037/N2_4DayOld_4psi_CO2_a.0...</td>\n",
       "    </tr>\n",
       "    <tr>\n",
       "      <th>4</th>\n",
       "      <td>./data/20141118_131037/N2_4DayOld_4psi_CO2_a.0...</td>\n",
       "    </tr>\n",
       "    <tr>\n",
       "      <th>5</th>\n",
       "      <td>./data/20141118_131037/N2_4DayOld_4psi_CO2_a.0...</td>\n",
       "    </tr>\n",
       "    <tr>\n",
       "      <th>6</th>\n",
       "      <td>./data/20141118_131037/N2_4DayOld_4psi_CO2_a.0...</td>\n",
       "    </tr>\n",
       "    <tr>\n",
       "      <th>7</th>\n",
       "      <td>./data/20141118_131037/N2_4DayOld_4psi_CO2_a.0...</td>\n",
       "    </tr>\n",
       "    <tr>\n",
       "      <th>8</th>\n",
       "      <td>./data/20141118_131037/N2_4DayOld_4psi_CO2_a.0...</td>\n",
       "    </tr>\n",
       "    <tr>\n",
       "      <th>9</th>\n",
       "      <td>./data/20141118_131037/N2_4DayOld_4psi_CO2_a.0...</td>\n",
       "    </tr>\n",
       "    <tr>\n",
       "      <th>10</th>\n",
       "      <td>./data/20141118_133214/tim4182_4DayOld_4psi_CO...</td>\n",
       "    </tr>\n",
       "    <tr>\n",
       "      <th>11</th>\n",
       "      <td>./data/20141118_133214/tim4182_4DayOld_4psi_CO...</td>\n",
       "    </tr>\n",
       "    <tr>\n",
       "      <th>12</th>\n",
       "      <td>./data/20141118_133214/tim4182_4DayOld_4psi_CO...</td>\n",
       "    </tr>\n",
       "    <tr>\n",
       "      <th>13</th>\n",
       "      <td>./data/20141118_133214/tim4182_4DayOld_4psi_CO...</td>\n",
       "    </tr>\n",
       "    <tr>\n",
       "      <th>14</th>\n",
       "      <td>./data/20141118_133214/tim4182_4DayOld_4psi_CO...</td>\n",
       "    </tr>\n",
       "    <tr>\n",
       "      <th>15</th>\n",
       "      <td>./data/20141118_133214/tim4182_4DayOld_4psi_CO...</td>\n",
       "    </tr>\n",
       "    <tr>\n",
       "      <th>16</th>\n",
       "      <td>./data/20141118_133214/tim4182_4DayOld_4psi_CO...</td>\n",
       "    </tr>\n",
       "    <tr>\n",
       "      <th>17</th>\n",
       "      <td>./data/20141118_133214/tim4182_4DayOld_4psi_CO...</td>\n",
       "    </tr>\n",
       "    <tr>\n",
       "      <th>18</th>\n",
       "      <td>./data/20141118_133214/tim4182_4DayOld_4psi_CO...</td>\n",
       "    </tr>\n",
       "    <tr>\n",
       "      <th>19</th>\n",
       "      <td>./data/20141118_133214/tim4182_4DayOld_4psi_CO...</td>\n",
       "    </tr>\n",
       "    <tr>\n",
       "      <th>20</th>\n",
       "      <td></td>\n",
       "    </tr>\n",
       "  </tbody>\n",
       "</table>\n",
       "</div>"
      ],
      "text/plain": [
       "                                                    0\n",
       "0   ./data/20141118_131037/N2_4DayOld_4psi_CO2_a.0...\n",
       "1   ./data/20141118_131037/N2_4DayOld_4psi_CO2_a.0...\n",
       "2   ./data/20141118_131037/N2_4DayOld_4psi_CO2_a.0...\n",
       "3   ./data/20141118_131037/N2_4DayOld_4psi_CO2_a.0...\n",
       "4   ./data/20141118_131037/N2_4DayOld_4psi_CO2_a.0...\n",
       "5   ./data/20141118_131037/N2_4DayOld_4psi_CO2_a.0...\n",
       "6   ./data/20141118_131037/N2_4DayOld_4psi_CO2_a.0...\n",
       "7   ./data/20141118_131037/N2_4DayOld_4psi_CO2_a.0...\n",
       "8   ./data/20141118_131037/N2_4DayOld_4psi_CO2_a.0...\n",
       "9   ./data/20141118_131037/N2_4DayOld_4psi_CO2_a.0...\n",
       "10  ./data/20141118_133214/tim4182_4DayOld_4psi_CO...\n",
       "11  ./data/20141118_133214/tim4182_4DayOld_4psi_CO...\n",
       "12  ./data/20141118_133214/tim4182_4DayOld_4psi_CO...\n",
       "13  ./data/20141118_133214/tim4182_4DayOld_4psi_CO...\n",
       "14  ./data/20141118_133214/tim4182_4DayOld_4psi_CO...\n",
       "15  ./data/20141118_133214/tim4182_4DayOld_4psi_CO...\n",
       "16  ./data/20141118_133214/tim4182_4DayOld_4psi_CO...\n",
       "17  ./data/20141118_133214/tim4182_4DayOld_4psi_CO...\n",
       "18  ./data/20141118_133214/tim4182_4DayOld_4psi_CO...\n",
       "19  ./data/20141118_133214/tim4182_4DayOld_4psi_CO...\n",
       "20                                                   "
      ]
     },
     "execution_count": 477,
     "metadata": {},
     "output_type": "execute_result"
    }
   ],
   "source": [
    "# putting the content into a data frame in its current form\n",
    "pd.DataFrame(content)"
   ]
  },
  {
   "cell_type": "code",
   "execution_count": 382,
   "metadata": {
    "collapsed": false
   },
   "outputs": [
    {
     "name": "stdout",
     "output_type": "stream",
     "text": [
      "1 -> data\n",
      "2 -> 2014\n",
      "3 -> 11\n",
      "4 -> 18\n",
      "5 -> 131037\n",
      "6 -> N2_4DayOld_4psi_CO2_a\n",
      "7 -> 00001\n",
      "8 -> dat:15.387\n",
      "9 -> 9.00\n",
      "10 -> 1\n",
      "11 -> 234.9\n"
     ]
    }
   ],
   "source": [
    "# matching the regular expression expression to the first type of data (N2)-Developing a genreral regular expression\n",
    "show_groups('..([a-z]{4}).([0-9]{4})([0-9]{2})([0-9]{2}).([0-9]{6}).([A-Za-z]{0,3}[0-9]{1,}_4DayOld_4psi_CO2_[a-z]{1}).([0-9]{5}).(dat:[0-9]{2,}.[0-9]{3})\\s([0-9]{1,}.[0-9]{2})\\s([0-9]{1,})\\s([0-9]{2,3}.[0-9]{1,2})', './data/20141118_131037/N2_4DayOld_4psi_CO2_a.00001.dat:15.387 9.00 1 234.9')"
   ]
  },
  {
   "cell_type": "code",
   "execution_count": 381,
   "metadata": {
    "collapsed": false
   },
   "outputs": [
    {
     "name": "stdout",
     "output_type": "stream",
     "text": [
      "1 -> data\n",
      "2 -> 2014\n",
      "3 -> 11\n",
      "4 -> 18\n",
      "5 -> 133214\n",
      "6 -> tim4182_4DayOld_4psi_CO2_b\n",
      "7 -> 00087\n",
      "8 -> dat:249.616\n",
      "9 -> 5832.00\n",
      "10 -> 87\n",
      "11 -> 24.3\n"
     ]
    }
   ],
   "source": [
    "# matching the regular expression expression to the second type of data (tim)-Developing a genreral regular expression\n",
    "show_groups('..([a-z]{4}).([0-9]{4})([0-9]{2})([0-9]{2}).([0-9]{6}).([A-Za-z]{0,3}[0-9]{1,}_4DayOld_4psi_CO2_[a-z]{1}).([0-9]{5}).(dat:[0-9]{2,}.[0-9]{3})\\s([0-9]{1,}.[0-9]{2})\\s([0-9]{1,})\\s([0-9]{2,3}.[0-9]{1,2})', './data/20141118_133214/tim4182_4DayOld_4psi_CO2_b.00087.dat:249.616 5832.00 87 24.3')"
   ]
  },
  {
   "cell_type": "markdown",
   "metadata": {},
   "source": [
    "Above I was matching the regular expression code to the two types of data in content. To seperature the data from both types into columns, I pulled data from the lines in content that I wanted isolated in a column by placing that data in bracket in my general regular expression code. Once I was satisfied that my regular expression code would match both of the data types and isolate the desired data in content, I created a function that would print the matched groups. The data I specified for isolation in the regular expression would then be separated by spaces when the function printed the results."
   ]
  },
  {
   "cell_type": "code",
   "execution_count": 501,
   "metadata": {
    "collapsed": false
   },
   "outputs": [],
   "source": [
    "# Running a for loop in the array content to separate the data into columns using regular expressions \n",
    "def organized(name):\n",
    "    for lines in name:\n",
    "        separated = re.search('..([a-z]{4}).([0-9]{4})([0-9]{2})([0-9]{2}).([0-9]{6}).([A-Za-z]{0,3}[0-9]{1,}_4DayOld_4psi_CO2_[a-z]{1}).([0-9]{5}).(dat:[0-9]{2,}.[0-9]{3})\\s([0-9]{1,}.[0-9]{2})\\s([0-9]{1,})\\s([0-9]{2,3}.[0-9]{1,2})', lines)\n",
    "        print(separated.group(1), separated.group(2), separated.group(3), separated.group(4), separated.group(5), separated.group(6), separated.group(7), separated.group(8), separated.group(9), separated.group(10), separated.group(11))"
   ]
  },
  {
   "cell_type": "code",
   "execution_count": 502,
   "metadata": {
    "collapsed": false
   },
   "outputs": [
    {
     "name": "stdout",
     "output_type": "stream",
     "text": [
      "data 2014 11 18 131037 N2_4DayOld_4psi_CO2_a 00001 dat:15.028 0.00 1 234.9\n",
      "data 2014 11 18 131037 N2_4DayOld_4psi_CO2_a 00001 dat:15.069 1.00 1 234.9\n",
      "data 2014 11 18 131037 N2_4DayOld_4psi_CO2_a 00001 dat:15.109 2.00 1 234.9\n",
      "data 2014 11 18 131037 N2_4DayOld_4psi_CO2_a 00001 dat:15.148 3.00 1 234.9\n",
      "data 2014 11 18 131037 N2_4DayOld_4psi_CO2_a 00001 dat:15.186 4.00 1 234.9\n",
      "data 2014 11 18 131037 N2_4DayOld_4psi_CO2_a 00001 dat:15.229 5.00 1 234.9\n",
      "data 2014 11 18 131037 N2_4DayOld_4psi_CO2_a 00001 dat:15.270 6.00 1 234.9\n",
      "data 2014 11 18 131037 N2_4DayOld_4psi_CO2_a 00001 dat:15.310 7.00 1 234.9\n",
      "data 2014 11 18 131037 N2_4DayOld_4psi_CO2_a 00001 dat:15.350 8.00 1 234.9\n",
      "data 2014 11 18 131037 N2_4DayOld_4psi_CO2_a 00001 dat:15.387 9.00 1 234.9\n",
      "data 2014 11 18 133214 tim4182_4DayOld_4psi_CO2_b 00087 dat:249.616 5832.00 87 24.3\n",
      "data 2014 11 18 133214 tim4182_4DayOld_4psi_CO2_b 00087 dat:249.656 5833.00 87 24.3\n",
      "data 2014 11 18 133214 tim4182_4DayOld_4psi_CO2_b 00087 dat:249.697 5834.00 87 24.3\n",
      "data 2014 11 18 133214 tim4182_4DayOld_4psi_CO2_b 00087 dat:249.737 5835.00 87 24.3\n",
      "data 2014 11 18 133214 tim4182_4DayOld_4psi_CO2_b 00087 dat:249.776 5836.00 87 24.3\n",
      "data 2014 11 18 133214 tim4182_4DayOld_4psi_CO2_b 00087 dat:249.816 5837.00 87 24.3\n",
      "data 2014 11 18 133214 tim4182_4DayOld_4psi_CO2_b 00087 dat:249.857 5838.00 87 24.3\n",
      "data 2014 11 18 133214 tim4182_4DayOld_4psi_CO2_b 00087 dat:249.897 5839.00 87 24.3\n",
      "data 2014 11 18 133214 tim4182_4DayOld_4psi_CO2_b 00087 dat:249.938 5840.00 87 24.3\n",
      "data 2014 11 18 133214 tim4182_4DayOld_4psi_CO2_b 00087 dat:249.977 5841.00 87 24.3\n"
     ]
    },
    {
     "ename": "AttributeError",
     "evalue": "'NoneType' object has no attribute 'group'",
     "output_type": "error",
     "traceback": [
      "\u001b[0;31m---------------------------------------------------------------------------\u001b[0m",
      "\u001b[0;31mAttributeError\u001b[0m                            Traceback (most recent call last)",
      "\u001b[0;32m<ipython-input-502-5a3037566db5>\u001b[0m in \u001b[0;36m<module>\u001b[0;34m()\u001b[0m\n\u001b[1;32m      1\u001b[0m \u001b[0;34m\u001b[0m\u001b[0m\n\u001b[0;32m----> 2\u001b[0;31m \u001b[0morganized\u001b[0m\u001b[0;34m(\u001b[0m\u001b[0mcontent\u001b[0m\u001b[0;34m)\u001b[0m\u001b[0;34m\u001b[0m\u001b[0m\n\u001b[0m",
      "\u001b[0;32m<ipython-input-501-242c1626c174>\u001b[0m in \u001b[0;36morganized\u001b[0;34m(name)\u001b[0m\n\u001b[1;32m      3\u001b[0m     \u001b[0;32mfor\u001b[0m \u001b[0mlines\u001b[0m \u001b[0;32min\u001b[0m \u001b[0mname\u001b[0m\u001b[0;34m:\u001b[0m\u001b[0;34m\u001b[0m\u001b[0m\n\u001b[1;32m      4\u001b[0m         \u001b[0mseparated\u001b[0m \u001b[0;34m=\u001b[0m \u001b[0mre\u001b[0m\u001b[0;34m.\u001b[0m\u001b[0msearch\u001b[0m\u001b[0;34m(\u001b[0m\u001b[0;34m'..([a-z]{4}).([0-9]{4})([0-9]{2})([0-9]{2}).([0-9]{6}).([A-Za-z]{0,3}[0-9]{1,}_4DayOld_4psi_CO2_[a-z]{1}).([0-9]{5}).(dat:[0-9]{2,}.[0-9]{3})\\s([0-9]{1,}.[0-9]{2})\\s([0-9]{1,})\\s([0-9]{2,3}.[0-9]{1,2})'\u001b[0m\u001b[0;34m,\u001b[0m \u001b[0mlines\u001b[0m\u001b[0;34m)\u001b[0m\u001b[0;34m\u001b[0m\u001b[0m\n\u001b[0;32m----> 5\u001b[0;31m         \u001b[0mprint\u001b[0m\u001b[0;34m(\u001b[0m\u001b[0mseparated\u001b[0m\u001b[0;34m.\u001b[0m\u001b[0mgroup\u001b[0m\u001b[0;34m(\u001b[0m\u001b[0;36m1\u001b[0m\u001b[0;34m)\u001b[0m\u001b[0;34m,\u001b[0m \u001b[0mseparated\u001b[0m\u001b[0;34m.\u001b[0m\u001b[0mgroup\u001b[0m\u001b[0;34m(\u001b[0m\u001b[0;36m2\u001b[0m\u001b[0;34m)\u001b[0m\u001b[0;34m,\u001b[0m \u001b[0mseparated\u001b[0m\u001b[0;34m.\u001b[0m\u001b[0mgroup\u001b[0m\u001b[0;34m(\u001b[0m\u001b[0;36m3\u001b[0m\u001b[0;34m)\u001b[0m\u001b[0;34m,\u001b[0m \u001b[0mseparated\u001b[0m\u001b[0;34m.\u001b[0m\u001b[0mgroup\u001b[0m\u001b[0;34m(\u001b[0m\u001b[0;36m4\u001b[0m\u001b[0;34m)\u001b[0m\u001b[0;34m,\u001b[0m \u001b[0mseparated\u001b[0m\u001b[0;34m.\u001b[0m\u001b[0mgroup\u001b[0m\u001b[0;34m(\u001b[0m\u001b[0;36m5\u001b[0m\u001b[0;34m)\u001b[0m\u001b[0;34m,\u001b[0m \u001b[0mseparated\u001b[0m\u001b[0;34m.\u001b[0m\u001b[0mgroup\u001b[0m\u001b[0;34m(\u001b[0m\u001b[0;36m6\u001b[0m\u001b[0;34m)\u001b[0m\u001b[0;34m,\u001b[0m \u001b[0mseparated\u001b[0m\u001b[0;34m.\u001b[0m\u001b[0mgroup\u001b[0m\u001b[0;34m(\u001b[0m\u001b[0;36m7\u001b[0m\u001b[0;34m)\u001b[0m\u001b[0;34m,\u001b[0m \u001b[0mseparated\u001b[0m\u001b[0;34m.\u001b[0m\u001b[0mgroup\u001b[0m\u001b[0;34m(\u001b[0m\u001b[0;36m8\u001b[0m\u001b[0;34m)\u001b[0m\u001b[0;34m,\u001b[0m \u001b[0mseparated\u001b[0m\u001b[0;34m.\u001b[0m\u001b[0mgroup\u001b[0m\u001b[0;34m(\u001b[0m\u001b[0;36m9\u001b[0m\u001b[0;34m)\u001b[0m\u001b[0;34m,\u001b[0m \u001b[0mseparated\u001b[0m\u001b[0;34m.\u001b[0m\u001b[0mgroup\u001b[0m\u001b[0;34m(\u001b[0m\u001b[0;36m10\u001b[0m\u001b[0;34m)\u001b[0m\u001b[0;34m,\u001b[0m \u001b[0mseparated\u001b[0m\u001b[0;34m.\u001b[0m\u001b[0mgroup\u001b[0m\u001b[0;34m(\u001b[0m\u001b[0;36m11\u001b[0m\u001b[0;34m)\u001b[0m\u001b[0;34m)\u001b[0m\u001b[0;34m\u001b[0m\u001b[0m\n\u001b[0m",
      "\u001b[0;31mAttributeError\u001b[0m: 'NoneType' object has no attribute 'group'"
     ]
    }
   ],
   "source": [
    "\n",
    "organized(content)"
   ]
  },
  {
   "cell_type": "code",
   "execution_count": null,
   "metadata": {
    "collapsed": true
   },
   "outputs": [],
   "source": [
    "\n"
   ]
  }
 ],
 "metadata": {
  "kernelspec": {
   "display_name": "Python 3",
   "language": "python",
   "name": "python3"
  },
  "language_info": {
   "codemirror_mode": {
    "name": "ipython",
    "version": 3
   },
   "file_extension": ".py",
   "mimetype": "text/x-python",
   "name": "python",
   "nbconvert_exporter": "python",
   "pygments_lexer": "ipython3",
   "version": "3.4.3"
  }
 },
 "nbformat": 4,
 "nbformat_minor": 0
}
