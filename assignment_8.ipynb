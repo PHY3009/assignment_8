{
 "cells": [
  {
   "cell_type": "code",
   "execution_count": 5,
   "metadata": {
    "collapsed": false
   },
   "outputs": [
    {
     "name": "stdout",
     "output_type": "stream",
     "text": [
      "./data/20141118_131037/N2_4DayOld_4psi_CO2_a.00001.dat:15.028 0.00 1 234.9\n",
      "./data/20141118_131037/N2_4DayOld_4psi_CO2_a.00001.dat:15.069 1.00 1 234.9\n",
      "./data/20141118_131037/N2_4DayOld_4psi_CO2_a.00001.dat:15.109 2.00 1 234.9\n",
      "./data/20141118_131037/N2_4DayOld_4psi_CO2_a.00001.dat:15.148 3.00 1 234.9\n",
      "./data/20141118_131037/N2_4DayOld_4psi_CO2_a.00001.dat:15.186 4.00 1 234.9\n",
      "./data/20141118_131037/N2_4DayOld_4psi_CO2_a.00001.dat:15.229 5.00 1 234.9\n",
      "./data/20141118_131037/N2_4DayOld_4psi_CO2_a.00001.dat:15.270 6.00 1 234.9\n",
      "./data/20141118_131037/N2_4DayOld_4psi_CO2_a.00001.dat:15.310 7.00 1 234.9\n",
      "./data/20141118_131037/N2_4DayOld_4psi_CO2_a.00001.dat:15.350 8.00 1 234.9\n",
      "./data/20141118_131037/N2_4DayOld_4psi_CO2_a.00001.dat:15.387 9.00 1 234.9\n"
     ]
    }
   ],
   "source": [
    "#open file\n",
    "data = open('merged.dat', 'r').read().strip().split('\\n')\n",
    "\n",
    "#peek at structure of data\n",
    "for row in data[:10]:\n",
    "    print(row)"
   ]
  },
  {
   "cell_type": "markdown",
   "metadata": {},
   "source": [
    "This data has irregular delimiters (periods, slashes and spaces). In order for the data to be used, it needs to be put into a more regular format."
   ]
  },
  {
   "cell_type": "code",
   "execution_count": null,
   "metadata": {
    "collapsed": true
   },
   "outputs": [],
   "source": []
  },
  {
   "cell_type": "code",
   "execution_count": null,
   "metadata": {
    "collapsed": true
   },
   "outputs": [],
   "source": []
  },
  {
   "cell_type": "code",
   "execution_count": null,
   "metadata": {
    "collapsed": true
   },
   "outputs": [],
   "source": []
  },
  {
   "cell_type": "code",
   "execution_count": null,
   "metadata": {
    "collapsed": true
   },
   "outputs": [],
   "source": []
  }
 ],
 "metadata": {
  "kernelspec": {
   "display_name": "Python 3",
   "language": "python",
   "name": "python3"
  },
  "language_info": {
   "codemirror_mode": {
    "name": "ipython",
    "version": 3
   },
   "file_extension": ".py",
   "mimetype": "text/x-python",
   "name": "python",
   "nbconvert_exporter": "python",
   "pygments_lexer": "ipython3",
   "version": "3.4.3"
  }
 },
 "nbformat": 4,
 "nbformat_minor": 0
}
