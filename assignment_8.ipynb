{
 "cells": [
  {
   "cell_type": "code",
   "execution_count": 60,
   "metadata": {
    "collapsed": false
   },
   "outputs": [
    {
     "name": "stdout",
     "output_type": "stream",
     "text": [
      "['./data/20141118_131037/N2_4DayOld_4psi_CO2_a.00001.dat:15.028 0.00 1 234.9', './data/20141118_131037/N2_4DayOld_4psi_CO2_a.00001.dat:15.069 1.00 1 234.9', './data/20141118_131037/N2_4DayOld_4psi_CO2_a.00001.dat:15.109 2.00 1 234.9', './data/20141118_131037/N2_4DayOld_4psi_CO2_a.00001.dat:15.148 3.00 1 234.9', './data/20141118_131037/N2_4DayOld_4psi_CO2_a.00001.dat:15.186 4.00 1 234.9', './data/20141118_131037/N2_4DayOld_4psi_CO2_a.00001.dat:15.229 5.00 1 234.9', './data/20141118_131037/N2_4DayOld_4psi_CO2_a.00001.dat:15.270 6.00 1 234.9', './data/20141118_131037/N2_4DayOld_4psi_CO2_a.00001.dat:15.310 7.00 1 234.9', './data/20141118_131037/N2_4DayOld_4psi_CO2_a.00001.dat:15.350 8.00 1 234.9', './data/20141118_131037/N2_4DayOld_4psi_CO2_a.00001.dat:15.387 9.00 1 234.9', './data/20141118_133214/tim4182_4DayOld_4psi_CO2_b.00087.dat:249.616 5832.00 87 24.3', './data/20141118_133214/tim4182_4DayOld_4psi_CO2_b.00087.dat:249.656 5833.00 87 24.3', './data/20141118_133214/tim4182_4DayOld_4psi_CO2_b.00087.dat:249.697 5834.00 87 24.3', './data/20141118_133214/tim4182_4DayOld_4psi_CO2_b.00087.dat:249.737 5835.00 87 24.3', './data/20141118_133214/tim4182_4DayOld_4psi_CO2_b.00087.dat:249.776 5836.00 87 24.3', './data/20141118_133214/tim4182_4DayOld_4psi_CO2_b.00087.dat:249.816 5837.00 87 24.3', './data/20141118_133214/tim4182_4DayOld_4psi_CO2_b.00087.dat:249.857 5838.00 87 24.3', './data/20141118_133214/tim4182_4DayOld_4psi_CO2_b.00087.dat:249.897 5839.00 87 24.3', './data/20141118_133214/tim4182_4DayOld_4psi_CO2_b.00087.dat:249.938 5840.00 87 24.3', './data/20141118_133214/tim4182_4DayOld_4psi_CO2_b.00087.dat:249.977 5841.00 87 24.3']\n",
      "./data/20141118_131037/N2_4DayOld_4psi_CO2_a.00001.dat:15.028 0.00 1 234.9\n",
      "./data/20141118_131037/N2_4DayOld_4psi_CO2_a.00001.dat:15.069 1.00 1 234.9\n",
      "./data/20141118_131037/N2_4DayOld_4psi_CO2_a.00001.dat:15.109 2.00 1 234.9\n",
      "./data/20141118_131037/N2_4DayOld_4psi_CO2_a.00001.dat:15.148 3.00 1 234.9\n",
      "./data/20141118_131037/N2_4DayOld_4psi_CO2_a.00001.dat:15.186 4.00 1 234.9\n",
      "./data/20141118_131037/N2_4DayOld_4psi_CO2_a.00001.dat:15.229 5.00 1 234.9\n",
      "./data/20141118_131037/N2_4DayOld_4psi_CO2_a.00001.dat:15.270 6.00 1 234.9\n",
      "./data/20141118_131037/N2_4DayOld_4psi_CO2_a.00001.dat:15.310 7.00 1 234.9\n",
      "./data/20141118_131037/N2_4DayOld_4psi_CO2_a.00001.dat:15.350 8.00 1 234.9\n",
      "./data/20141118_131037/N2_4DayOld_4psi_CO2_a.00001.dat:15.387 9.00 1 234.9\n",
      "./data/20141118_133214/tim4182_4DayOld_4psi_CO2_b.00087.dat:249.616 5832.00 87 24.3\n",
      "./data/20141118_133214/tim4182_4DayOld_4psi_CO2_b.00087.dat:249.656 5833.00 87 24.3\n",
      "./data/20141118_133214/tim4182_4DayOld_4psi_CO2_b.00087.dat:249.697 5834.00 87 24.3\n",
      "./data/20141118_133214/tim4182_4DayOld_4psi_CO2_b.00087.dat:249.737 5835.00 87 24.3\n",
      "./data/20141118_133214/tim4182_4DayOld_4psi_CO2_b.00087.dat:249.776 5836.00 87 24.3\n",
      "./data/20141118_133214/tim4182_4DayOld_4psi_CO2_b.00087.dat:249.816 5837.00 87 24.3\n",
      "./data/20141118_133214/tim4182_4DayOld_4psi_CO2_b.00087.dat:249.857 5838.00 87 24.3\n",
      "./data/20141118_133214/tim4182_4DayOld_4psi_CO2_b.00087.dat:249.897 5839.00 87 24.3\n",
      "./data/20141118_133214/tim4182_4DayOld_4psi_CO2_b.00087.dat:249.938 5840.00 87 24.3\n",
      "./data/20141118_133214/tim4182_4DayOld_4psi_CO2_b.00087.dat:249.977 5841.00 87 24.3\n"
     ]
    }
   ],
   "source": [
    "#open file\n",
    "data = open('merged.dat', 'r').read().strip().split('\\n')\n",
    "\n",
    "print(data)\n",
    "#peek at structure of data\n",
    "for row in data[:]:\n",
    "    print(row)"
   ]
  },
  {
   "cell_type": "markdown",
   "metadata": {},
   "source": [
    "This data has irregular delimiters (periods, slashes and spaces). In order for the data to be used, it needs to be put into a more regular format."
   ]
  },
  {
   "cell_type": "code",
   "execution_count": 27,
   "metadata": {
    "collapsed": true
   },
   "outputs": [],
   "source": [
    "import re\n",
    "search_str = '^\\./([a-z]+)/([0-9_]+)/([A-Za-z0-9]+)_([0-9A-Za-z]+)_([0-9a-z]+)_([A-Z0-9]+)_([a-z]\\.[0-9]{5}\\.dat):([0-9]+\\.[0-9]{3}) ([0-9]+\\.[0-9]+) ([0-9]+) ([0-9.]+)'"
   ]
  },
  {
   "cell_type": "code",
   "execution_count": 70,
   "metadata": {
    "collapsed": false
   },
   "outputs": [],
   "source": [
    "def show_groups(pattern, text):\n",
    "    m = re.match(pattern, text)\n",
    "    \n",
    "    if m is None:\n",
    "        print('No match')\n",
    "        return\n",
    "    return m"
   ]
  },
  {
   "cell_type": "code",
   "execution_count": 88,
   "metadata": {
    "collapsed": false
   },
   "outputs": [
    {
     "name": "stdout",
     "output_type": "stream",
     "text": [
      "['data', '20141118_131037', 'N2', '4DayOld', '4psi', 'CO2', 'a.00001.dat', '15.028', '0.00', '1', '234.9']\n",
      "['data', '20141118_131037', 'N2', '4DayOld', '4psi', 'CO2', 'a.00001.dat', '15.069', '1.00', '1', '234.9']\n",
      "['data', '20141118_131037', 'N2', '4DayOld', '4psi', 'CO2', 'a.00001.dat', '15.109', '2.00', '1', '234.9']\n",
      "['data', '20141118_131037', 'N2', '4DayOld', '4psi', 'CO2', 'a.00001.dat', '15.148', '3.00', '1', '234.9']\n",
      "['data', '20141118_131037', 'N2', '4DayOld', '4psi', 'CO2', 'a.00001.dat', '15.186', '4.00', '1', '234.9']\n",
      "['data', '20141118_131037', 'N2', '4DayOld', '4psi', 'CO2', 'a.00001.dat', '15.229', '5.00', '1', '234.9']\n",
      "['data', '20141118_131037', 'N2', '4DayOld', '4psi', 'CO2', 'a.00001.dat', '15.270', '6.00', '1', '234.9']\n",
      "['data', '20141118_131037', 'N2', '4DayOld', '4psi', 'CO2', 'a.00001.dat', '15.310', '7.00', '1', '234.9']\n",
      "['data', '20141118_131037', 'N2', '4DayOld', '4psi', 'CO2', 'a.00001.dat', '15.350', '8.00', '1', '234.9']\n",
      "['data', '20141118_131037', 'N2', '4DayOld', '4psi', 'CO2', 'a.00001.dat', '15.387', '9.00', '1', '234.9']\n",
      "['data', '20141118_133214', 'tim4182', '4DayOld', '4psi', 'CO2', 'b.00087.dat', '249.616', '5832.00', '87', '24.3']\n",
      "['data', '20141118_133214', 'tim4182', '4DayOld', '4psi', 'CO2', 'b.00087.dat', '249.656', '5833.00', '87', '24.3']\n",
      "['data', '20141118_133214', 'tim4182', '4DayOld', '4psi', 'CO2', 'b.00087.dat', '249.697', '5834.00', '87', '24.3']\n",
      "['data', '20141118_133214', 'tim4182', '4DayOld', '4psi', 'CO2', 'b.00087.dat', '249.737', '5835.00', '87', '24.3']\n",
      "['data', '20141118_133214', 'tim4182', '4DayOld', '4psi', 'CO2', 'b.00087.dat', '249.776', '5836.00', '87', '24.3']\n",
      "['data', '20141118_133214', 'tim4182', '4DayOld', '4psi', 'CO2', 'b.00087.dat', '249.816', '5837.00', '87', '24.3']\n",
      "['data', '20141118_133214', 'tim4182', '4DayOld', '4psi', 'CO2', 'b.00087.dat', '249.857', '5838.00', '87', '24.3']\n",
      "['data', '20141118_133214', 'tim4182', '4DayOld', '4psi', 'CO2', 'b.00087.dat', '249.897', '5839.00', '87', '24.3']\n",
      "['data', '20141118_133214', 'tim4182', '4DayOld', '4psi', 'CO2', 'b.00087.dat', '249.938', '5840.00', '87', '24.3']\n",
      "['data', '20141118_133214', 'tim4182', '4DayOld', '4psi', 'CO2', 'b.00087.dat', '249.977', '5841.00', '87', '24.3']\n"
     ]
    }
   ],
   "source": [
    "clean_data = []\n",
    "for row in data:\n",
    "    match_row = show_groups(search_str, row)\n",
    "    clean_row = []\n",
    "    for i in range(1,12):\n",
    "        clean_row.append(match_row.group(i))\n",
    "    clean_data.append(clean_row)\n",
    "for row in clean_data:\n",
    "    print(row)"
   ]
  }
 ],
 "metadata": {
  "kernelspec": {
   "display_name": "Python 3",
   "language": "python",
   "name": "python3"
  },
  "language_info": {
   "codemirror_mode": {
    "name": "ipython",
    "version": 3
   },
   "file_extension": ".py",
   "mimetype": "text/x-python",
   "name": "python",
   "nbconvert_exporter": "python",
   "pygments_lexer": "ipython3",
   "version": "3.4.3"
  }
 },
 "nbformat": 4,
 "nbformat_minor": 0
}
